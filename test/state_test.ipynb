{
 "cells": [
  {
   "cell_type": "code",
   "execution_count": 1,
   "metadata": {},
   "outputs": [
    {
     "name": "stdout",
     "output_type": "stream",
     "text": [
      "Compiling takes time, but the compiled app is super fast⚡:\n",
      "😂Why do sin and tan work? Just cos. 😂\n",
      "\n"
     ]
    },
    {
     "data": {
      "application/vnd.jupyter.widget-view+json": {
       "model_id": "b9a4fe2a7c274993966b022873cc63b9",
       "version_major": 2,
       "version_minor": 0
      },
      "text/html": [
       "Cannot show widget. You probably want to rerun the code cell above (<i>Click in the code cell, and press Shift+Enter <kbd>⇧</kbd>+<kbd>↩</kbd></i>)."
      ],
      "text/plain": [
       "Cannot show ipywidgets in text"
      ]
     },
     "metadata": {},
     "output_type": "display_data"
    }
   ],
   "source": [
    "import nextpy.interfaces.jupyter as xtj\n",
    "\n",
    "def call():\n",
    "    print('I am clicked by a button')\n",
    "\n",
    "class MyState(xtj.State):\n",
    "    name: str = \"First\"\n",
    "    turbo_boost: bool = True \n",
    "    \n",
    "    def change_name():\n",
    "        if MyState.name.value == 'First':\n",
    "            MyState.name.value = \"Second\"\n",
    "        else:\n",
    "            MyState.name.value = \"First\"\n",
    "\n",
    "@xtj.component\n",
    "def input_widgets():\n",
    "    # print('State: ',state)\n",
    "    display(MyState.turbo_boost)\n",
    "    display(MyState.name.value)\n",
    "   \n",
    "    # CHECKBOX  \n",
    "    xtj.checkbox(label=\"Turbo boost\", value=MyState.turbo_boost, style='margin-left: 10px;')\n",
    "\n",
    "    if MyState.turbo_boost.value:\n",
    "        xtj.success(\"Turbo boost is on\")\n",
    "    else:\n",
    "        xtj.warning(\"Turbo boost is off, you might want to turn it on\")\n",
    "\n",
    "    xtj.button(\"NameChanger\", on_click=MyState.change_name)\n",
    "  \n",
    "input_widgets()\n"
   ]
  },
  {
   "cell_type": "code",
   "execution_count": null,
   "metadata": {},
   "outputs": [],
   "source": []
  }
 ],
 "metadata": {
  "kernelspec": {
   "display_name": ".venv",
   "language": "python",
   "name": "python3"
  },
  "language_info": {
   "codemirror_mode": {
    "name": "ipython",
    "version": 3
   },
   "file_extension": ".py",
   "mimetype": "text/x-python",
   "name": "python",
   "nbconvert_exporter": "python",
   "pygments_lexer": "ipython3",
   "version": "3.11.5"
  }
 },
 "nbformat": 4,
 "nbformat_minor": 2
}
