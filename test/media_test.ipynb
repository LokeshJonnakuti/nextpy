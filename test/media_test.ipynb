{
 "cells": [
  {
   "cell_type": "code",
   "execution_count": 1,
   "metadata": {},
   "outputs": [
    {
     "name": "stdout",
     "output_type": "stream",
     "text": [
      "Compiling takes time, but the compiled app is super fast⚡:\n",
      "😂What do you call a programmer from Finland? Nerdic. 😂\n",
      "\n"
     ]
    },
    {
     "data": {
      "application/vnd.jupyter.widget-view+json": {
       "model_id": "72be7c1e56b4427585050afe9106e3f1",
       "version_major": 2,
       "version_minor": 0
      },
      "text/html": [
       "Cannot show widget. You probably want to rerun the code cell above (<i>Click in the code cell, and press Shift+Enter <kbd>⇧</kbd>+<kbd>↩</kbd></i>)."
      ],
      "text/plain": [
       "Cannot show ipywidgets in text"
      ]
     },
     "metadata": {},
     "output_type": "display_data"
    }
   ],
   "source": [
    "import nextpy.interfaces.jupyter as xtj\n",
    "\n",
    "@xtj.component\n",
    "def media():\n",
    "    # IMAGE\n",
    "    xtj.image(alt='Image', src=f'https://images.pexels.com/photos/2280547/pexels-photo-2280547.jpeg?auto=compress&cs=tinysrgb&w=600', width=100)\n",
    "\n",
    "    # AUDIO  \n",
    "    xtj.audio(src='./audio_sample.mp3')\n",
    "\n",
    "    # VIDEO \n",
    "    xtj.video(src='./video_sample.mp4', style='width:30vw;')\n",
    "\n",
    "media()"
   ]
  }
 ],
 "metadata": {
  "kernelspec": {
   "display_name": ".venv",
   "language": "python",
   "name": "python3"
  },
  "language_info": {
   "codemirror_mode": {
    "name": "ipython",
    "version": 3
   },
   "file_extension": ".py",
   "mimetype": "text/x-python",
   "name": "python",
   "nbconvert_exporter": "python",
   "pygments_lexer": "ipython3",
   "version": "3.11.5"
  }
 },
 "nbformat": 4,
 "nbformat_minor": 2
}
