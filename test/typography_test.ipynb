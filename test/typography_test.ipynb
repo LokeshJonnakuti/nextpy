{
 "cells": [
  {
   "cell_type": "code",
   "execution_count": 1,
   "metadata": {},
   "outputs": [
    {
     "name": "stdout",
     "output_type": "stream",
     "text": [
      "Compiling takes time, but the compiled app is super fast⚡:\n",
      "😂How many programmers does it take to change a lightbulb? None, they just make darkness a standard. 😂\n",
      "\n"
     ]
    },
    {
     "data": {
      "application/vnd.jupyter.widget-view+json": {
       "model_id": "3aa924e4e2f5473ba3702531b1b22a76",
       "version_major": 2,
       "version_minor": 0
      },
      "text/html": [
       "Cannot show widget. You probably want to rerun the code cell above (<i>Click in the code cell, and press Shift+Enter <kbd>⇧</kbd>+<kbd>↩</kbd></i>)."
      ],
      "text/plain": [
       "Cannot show ipywidgets in text"
      ]
     },
     "metadata": {},
     "output_type": "display_data"
    }
   ],
   "source": [
    "import nextpy.interfaces.jupyter as xtj\n",
    "import pandas as pd\n",
    "import plotly.express as px\n",
    "\n",
    "import reacton.ipyvuetify as v\n",
    "\n",
    "df = px.data.gapminder()\n",
    "fig = px.scatter(df, x=\"gdpPercap\", y=\"lifeExp\")\n",
    "\n",
    "header = xtj.header('I am a header')\n",
    "texts = xtj.text('I am normal text')\n",
    "markdown_exp = xtj.markdown('# Heading level 1', unsafe_allow_html=True)\n",
    "h4_exp = xtj.h4('h4 testing')\n",
    "caption = xtj.caption('I am a caption', style='text-align: center;')\n",
    "divider_exp = xtj.divider(vertical=True, style='border-width:3px; height:1vh; border-color:blue')\n",
    "code_exp = xtj.code('''\n",
    "    def hello():\n",
    "        print(\"Hello, Jupyter using Nextpy!\")\n",
    "    '''\n",
    ")\n",
    "\n",
    "@xtj.component\n",
    "def Page():\n",
    "        xtj.title('Testing')\n",
    "        \n",
    "        display(texts)\n",
    "        display(markdown_exp)\n",
    "        display(header)\n",
    "        display(h4_exp)\n",
    "        display(caption)\n",
    "        display(code_exp)\n",
    "\n",
    "        # For using vertical divider outer container is must.\n",
    "        v.Html(\n",
    "            tag = 'div',\n",
    "            children= [divider_exp]\n",
    "        )\n",
    "\n",
    "Page()"
   ]
  }
 ],
 "metadata": {
  "kernelspec": {
   "display_name": "Python 3",
   "language": "python",
   "name": "python3"
  },
  "language_info": {
   "codemirror_mode": {
    "name": "ipython",
    "version": 3
   },
   "file_extension": ".py",
   "mimetype": "text/x-python",
   "name": "python",
   "nbconvert_exporter": "python",
   "pygments_lexer": "ipython3",
   "version": "3.11.5"
  }
 },
 "nbformat": 4,
 "nbformat_minor": 2
}
