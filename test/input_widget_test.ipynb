{
 "cells": [
  {
   "cell_type": "code",
   "execution_count": 1,
   "metadata": {},
   "outputs": [
    {
     "name": "stdout",
     "output_type": "stream",
     "text": [
      "Compiling takes time, but the compiled app is super fast⚡:\n",
      "😂Why did Microsoft name their search engine BING? Because It's Not Google. 😂\n",
      "\n"
     ]
    },
    {
     "data": {
      "application/vnd.jupyter.widget-view+json": {
       "model_id": "81e5c6f7b88a4dafbcca419b9bb382e2",
       "version_major": 2,
       "version_minor": 0
      },
      "text/html": [
       "Cannot show widget. You probably want to rerun the code cell above (<i>Click in the code cell, and press Shift+Enter <kbd>⇧</kbd>+<kbd>↩</kbd></i>)."
      ],
      "text/plain": [
       "Cannot show ipywidgets in text"
      ]
     },
     "metadata": {},
     "output_type": "display_data"
    }
   ],
   "source": [
    "import nextpy.interfaces.jupyter as xtj\n",
    "\n",
    "turbo_boost = xtj.reactive(True)\n",
    "int_value = xtj.reactive(100)\n",
    "\n",
    "def call():\n",
    "    print('I am clicked by a button')\n",
    "\n",
    "\n",
    "@xtj.component\n",
    "def input_widgets():\n",
    "\n",
    "    # BUTTON\n",
    "    xtj.button('Submit', on_click=call, style='background-color:blue; color:white;')\n",
    "\n",
    "    # DOWNLOAD BUTTON\n",
    "    data = \"This is the content of the file\"\n",
    "    with xtj.download_button(data, \"widget-download-2.txt\"):\n",
    "        xtj.button(\"Download\")\n",
    "\n",
    "    #  LINK BUTTON\n",
    "    with xtj.link_button('/fruit'):\n",
    "        xtj.button('Go to fruit')\n",
    "    \n",
    "    # CHECKBOX\n",
    "    # turbo_boost, set_turbo_boost = xtj.use_state(True)\n",
    "  \n",
    "    xtj.checkbox(label=\"Turbo boost\", value=turbo_boost, style='margin-left: 10px;')\n",
    "\n",
    "    if turbo_boost.value:\n",
    "        xtj.success(\"Turbo boost is on\")\n",
    "    else:\n",
    "        xtj.warning(\"Turbo boost is off, you might want to turn it on\")\n",
    "\n",
    "    # SELECT BOX\n",
    "    foods = [\"Kiwi\", \"Banana\", \"Apple\", \"Mango\"]\n",
    "    food, set_food = xtj.use_state(\"Banana\")\n",
    "    \n",
    "    xtj.select_box(label=\"Food\", value=food, values=foods, on_value=set_food)\n",
    "    xtj.markdown(f\"**Selected**: {food}\")\n",
    "\n",
    "    selected_foods, set_selected_foods = xtj.use_state(['Banana'])\n",
    "    # MULTISELECT BOX\n",
    "    xtj.multiselect(label=\"Food\", values=selected_foods, all_values=foods, on_value=set_selected_foods)\n",
    "    xtj.markdown(f\"**Selected**: {selected_foods}\")\n",
    "\n",
    "    # SLIDER \n",
    "    xtj.slider(\"Some integer\", value=int_value, min=-10, max=120)\n",
    "    xtj.text(''+str(int_value.value))\n",
    "\n",
    "    # INPUT \n",
    "    xtj.input(label='Input here')\n",
    "\n",
    "    # FILE UPLOADER \n",
    "    # def uploaded_file(file):\n",
    "    #     pass \n",
    "    # xtj.file_uploader(label='hii', on_file=uploaded_file)\n",
    "\n",
    "    # COLOR PICKER\n",
    "    xtj.color_picker(label=\"Pick A Color\", value=\"#00f900\", help=\"Choose a color from the picker\", on_change=None, args=None,  \n",
    "        kwargs=None, disabled=False, label_visibility=\"visible\")\n",
    "\n",
    "    #  DATE PICKER \n",
    "    xtj.date_picker(label=None, min=\"2000-01-01\", max=\"2030-12-31\", value=None)\n",
    "\n",
    "    # RADIO\n",
    "    options = [\"Comedy\", \"Drama\", \"Documentary\"]\n",
    "    icons = [\"\", \"\", \"🎥\"]  \n",
    "    xtj.radio(label=\"What's your favorite movie genre\", options=options, value=options[2], icons=icons, horizontal=False)\n",
    "\n",
    "    # TEXTAREA \n",
    "    xtj.textarea(label=None, placeholder=\"Enter text here...\", style='border: 1px solid #CCC; border-radius: 5px;')\n",
    "\n",
    "input_widgets()"
   ]
  },
  {
   "cell_type": "code",
   "execution_count": null,
   "metadata": {},
   "outputs": [],
   "source": []
  }
 ],
 "metadata": {
  "kernelspec": {
   "display_name": ".venv",
   "language": "python",
   "name": "python3"
  },
  "language_info": {
   "codemirror_mode": {
    "name": "ipython",
    "version": 3
   },
   "file_extension": ".py",
   "mimetype": "text/x-python",
   "name": "python",
   "nbconvert_exporter": "python",
   "pygments_lexer": "ipython3",
   "version": "3.11.5"
  }
 },
 "nbformat": 4,
 "nbformat_minor": 2
}
