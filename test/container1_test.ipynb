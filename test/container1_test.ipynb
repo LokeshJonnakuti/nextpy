{
 "cells": [
  {
   "cell_type": "code",
   "execution_count": 1,
   "metadata": {},
   "outputs": [
    {
     "name": "stdout",
     "output_type": "stream",
     "text": [
      "Compiling takes time, but the compiled app is super fast⚡:\n",
      "😂Optimist: The glass is half full. Pessimist: The glass is half empty. Programmer: The glass is twice as large as necessary. 😂\n",
      "\n",
      "111111111111111111 [Page()]\n"
     ]
    },
    {
     "data": {
      "application/vnd.jupyter.widget-view+json": {
       "model_id": "c202d60886a74b91b13dae50bc5c71fd",
       "version_major": 2,
       "version_minor": 0
      },
      "text/html": [
       "Cannot show widget. You probably want to rerun the code cell above (<i>Click in the code cell, and press Shift+Enter <kbd>⇧</kbd>+<kbd>↩</kbd></i>)."
      ],
      "text/plain": [
       "Cannot show ipywidgets in text"
      ]
     },
     "metadata": {},
     "output_type": "display_data"
    }
   ],
   "source": [
    "import nextpy.interfaces.jupyter as xtj\n",
    "import pandas as pd\n",
    "import plotly.express as px\n",
    "import datetime\n",
    "import reacton.ipyvuetify as v\n",
    "from ipywidgets import HTML\n",
    "\n",
    "\n",
    "card_contents = [\n",
    "    {'title': 'Card 1', 'text': 'This is some text inside the first card.'},\n",
    "    {'title': 'The Importance of bees', 'text': 'Bees play a critical role in maintaining the balance of our ecosystems and the survival of many plant and animal species. As master pollinators, they contribute to the growth of trees, flowers, and other plants, which serve as food and shelter for creatures large and small.'}\n",
    "]\n",
    "\n",
    "container = xtj.create_container_with_layout_and_card(card_contents)  \n",
    "\n",
    "tab_items = [\n",
    "    {'title': 'Home', 'content': 'Welcome to the Home tab!'},\n",
    "    {'title': 'Profile', 'content': 'This is the Profile tab.'},\n",
    "    {'title': 'Messages', 'content': 'Check your messages here.'},\n",
    "]\n",
    "\n",
    "tabs_component = xtj.tabs(\n",
    "    tab_items=tab_items,\n",
    "    class_name='my-tabs',\n",
    "    style='max-width: 800px;',\n",
    ")\n",
    "\n",
    "\n",
    "\n",
    "\n",
    "expander_title = \"The Importance of Bees in Our Ecosystem\"\n",
    "\n",
    "# Expander Content\n",
    "expander_content_html = \"\"\"\n",
    "<h4>Why Bees Matter</h4>\n",
    "<p>Bees play a critical role in maintaining the balance of our ecosystems and the survival of many plant and animal species. As master pollinators, they contribute to the growth of trees, flowers, and other plants, which serve as food and shelter for creatures large and small.</p>\n",
    "<p>Furthermore, bees are vital to the production of many of the fruits, nuts, and vegetables that we rely on. Their pollination efforts account for about one-third of the world's food supply. Without bees, our diets would be vastly different and nutritionally poorer.</p>\n",
    "<p>Unfortunately, bee populations are in decline due to factors such as habitat loss, pollution, pesticide use, climate change, and disease. Protecting bees and their habitats is essential not only for the bees' survival but for ours as well.</p>\n",
    "<p>Here are a few ways you can help protect bees:</p>\n",
    "<ul>\n",
    "    <li>Plant bee-friendly flowers and shrubs in your garden.</li>\n",
    "    <li>Avoid using pesticides and chemicals in your garden.</li>\n",
    "    <li>Support local beekeepers by buying local honey and beeswax products.</li>\n",
    "    <li>Create a bee bath in your garden where bees can find fresh water.</li>\n",
    "    <li>Spread the word about the importance of bees to our ecosystem.</li>\n",
    "</ul>\n",
    "<p>By understanding and supporting bees, we help maintain the balance of our ecosystems and ensure the continuation of the natural processes that are vital to our existence.</p>\n",
    "\"\"\"\n",
    "\n",
    "# Create an expander using the modified function with shadow effect\n",
    "expander = xtj.expander(expander_title, expanded=False)\n",
    "\n",
    "# Create HTML content\n",
    "content = HTML(expander_content_html)\n",
    "\n",
    "# Add content to the expander\n",
    "xtj.add_content_to_expander(expander, content)\n",
    "\n",
    "@xtj.component\n",
    "def Page():\n",
    "    xtj.title('Testing')   \n",
    "    \n",
    "    display(container)\n",
    "    \n",
    "    display(tabs_component)\n",
    "    display(expander)\n",
    "    \n",
    "    \n",
    "Page()\n"
   ]
  }
 ],
 "metadata": {
  "kernelspec": {
   "display_name": "myvenv",
   "language": "python",
   "name": "python3"
  },
  "language_info": {
   "codemirror_mode": {
    "name": "ipython",
    "version": 3
   },
   "file_extension": ".py",
   "mimetype": "text/x-python",
   "name": "python",
   "nbconvert_exporter": "python",
   "pygments_lexer": "ipython3",
   "version": "3.9.4"
  }
 },
 "nbformat": 4,
 "nbformat_minor": 2
}
